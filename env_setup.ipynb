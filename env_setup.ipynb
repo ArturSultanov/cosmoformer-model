{
 "cells": [
  {
   "cell_type": "markdown",
   "id": "0cac0938",
   "metadata": {},
   "source": [
    "# Environment dependencies setup\n",
    "\n",
    "This file contains steps for preparing the PC environment for model training."
   ]
  },
  {
   "cell_type": "markdown",
   "id": "7c9a5ad0",
   "metadata": {},
   "source": [
    "## Step 1: Update PIP package manager "
   ]
  },
  {
   "cell_type": "code",
   "execution_count": 1,
   "id": "b28f093c",
   "metadata": {},
   "outputs": [
    {
     "name": "stdout",
     "output_type": "stream",
     "text": [
      "Requirement already satisfied: pip in ./venv/lib64/python3.12/site-packages (24.2)\n",
      "Collecting pip\n",
      "  Using cached pip-25.0.1-py3-none-any.whl.metadata (3.7 kB)\n",
      "Using cached pip-25.0.1-py3-none-any.whl (1.8 MB)\n",
      "Installing collected packages: pip\n",
      "  Attempting uninstall: pip\n",
      "    Found existing installation: pip 24.2\n",
      "    Uninstalling pip-24.2:\n",
      "      Successfully uninstalled pip-24.2\n",
      "Successfully installed pip-25.0.1\n",
      "Note: you may need to restart the kernel to use updated packages.\n"
     ]
    }
   ],
   "source": [
    "%pip install --upgrade pip"
   ]
  },
  {
   "cell_type": "markdown",
   "id": "d4eda648",
   "metadata": {},
   "source": [
    "## Step 2: Install PyTorch\n",
    "Run the cell below to intall PyThorch library with dependecies based on your hardware.  \n",
    "Select PyTorch installation type:\n",
    "1. CPU\n",
    "2. Nvidia GPU\n",
    "3. AMD GPU\n",
    "4. Apple Silicon"
   ]
  },
  {
   "cell_type": "code",
   "execution_count": 2,
   "id": "53b98a13-effd-4289-b02b-94effeff36bc",
   "metadata": {
    "scrolled": true
   },
   "outputs": [
    {
     "name": "stdout",
     "output_type": "stream",
     "text": [
      "Installing PyTorch for AMD GPU...\n",
      "Looking in indexes: https://download.pytorch.org/whl/rocm6.2\n",
      "Collecting torch\n",
      "  Using cached https://download.pytorch.org/whl/rocm6.2/torch-2.5.1%2Brocm6.2-cp312-cp312-linux_x86_64.whl (3973.5 MB)\n",
      "Collecting torchvision\n",
      "  Using cached https://download.pytorch.org/whl/rocm6.2/torchvision-0.20.1%2Brocm6.2-cp312-cp312-linux_x86_64.whl (2.6 MB)\n",
      "Collecting torchaudio\n",
      "  Using cached https://download.pytorch.org/whl/rocm6.2/torchaudio-2.5.1%2Brocm6.2-cp312-cp312-linux_x86_64.whl (1.7 MB)\n",
      "Collecting filelock (from torch)\n",
      "  Using cached https://download.pytorch.org/whl/filelock-3.13.1-py3-none-any.whl.metadata (2.8 kB)\n",
      "Requirement already satisfied: typing-extensions>=4.8.0 in ./venv/lib64/python3.12/site-packages (from torch) (4.12.2)\n",
      "Collecting networkx (from torch)\n",
      "  Using cached https://download.pytorch.org/whl/networkx-3.3-py3-none-any.whl.metadata (5.1 kB)\n",
      "Requirement already satisfied: jinja2 in ./venv/lib64/python3.12/site-packages (from torch) (3.1.6)\n",
      "Collecting fsspec (from torch)\n",
      "  Using cached https://download.pytorch.org/whl/fsspec-2024.6.1-py3-none-any.whl.metadata (11 kB)\n",
      "Collecting pytorch-triton-rocm==3.1.0 (from torch)\n",
      "  Using cached https://download.pytorch.org/whl/pytorch_triton_rocm-3.1.0-cp312-cp312-linux_x86_64.whl (344.8 MB)\n",
      "Requirement already satisfied: setuptools in ./venv/lib64/python3.12/site-packages (from torch) (75.8.2)\n",
      "Collecting sympy==1.13.1 (from torch)\n",
      "  Using cached https://download.pytorch.org/whl/sympy-1.13.1-py3-none-any.whl (6.2 MB)\n",
      "Collecting mpmath<1.4,>=1.1.0 (from sympy==1.13.1->torch)\n",
      "  Using cached https://download.pytorch.org/whl/mpmath-1.3.0-py3-none-any.whl (536 kB)\n",
      "Collecting numpy (from torchvision)\n",
      "  Using cached https://download.pytorch.org/whl/numpy-2.1.2-cp312-cp312-manylinux_2_17_x86_64.manylinux2014_x86_64.whl.metadata (60 kB)\n",
      "Collecting pillow!=8.3.*,>=5.3.0 (from torchvision)\n",
      "  Using cached https://download.pytorch.org/whl/pillow-11.0.0-cp312-cp312-manylinux_2_28_x86_64.whl.metadata (9.1 kB)\n",
      "Requirement already satisfied: MarkupSafe>=2.0 in ./venv/lib64/python3.12/site-packages (from jinja2->torch) (3.0.2)\n",
      "Using cached https://download.pytorch.org/whl/pillow-11.0.0-cp312-cp312-manylinux_2_28_x86_64.whl (4.4 MB)\n",
      "Using cached https://download.pytorch.org/whl/filelock-3.13.1-py3-none-any.whl (11 kB)\n",
      "Using cached https://download.pytorch.org/whl/fsspec-2024.6.1-py3-none-any.whl (177 kB)\n",
      "Using cached https://download.pytorch.org/whl/networkx-3.3-py3-none-any.whl (1.7 MB)\n",
      "Using cached https://download.pytorch.org/whl/numpy-2.1.2-cp312-cp312-manylinux_2_17_x86_64.manylinux2014_x86_64.whl (16.0 MB)\n",
      "Installing collected packages: mpmath, sympy, pillow, numpy, networkx, fsspec, filelock, pytorch-triton-rocm, torch, torchvision, torchaudio\n",
      "Successfully installed filelock-3.13.1 fsspec-2024.6.1 mpmath-1.3.0 networkx-3.3 numpy-2.1.2 pillow-11.0.0 pytorch-triton-rocm-3.1.0 sympy-1.13.1 torch-2.5.1+rocm6.2 torchaudio-2.5.1+rocm6.2 torchvision-0.20.1+rocm6.2\n"
     ]
    }
   ],
   "source": [
    "# If you see any error, please, check the Python version.\n",
    "\n",
    "choice = input(\"Select PyTorch installation type:\\n\"\n",
    "               \"1. CPU\\n\"\n",
    "               \"2. Nvidia GPU\\n\"\n",
    "               \"3. AMD GPU\\n\"\n",
    "               \"4. Apple Silicon\\n\"\n",
    "               \"Enter the number corresponding to your choice: \")\n",
    "\n",
    "if choice == \"1\":\n",
    "    print(\"Installing PyTorch for CPU...\")\n",
    "    !pip3 install torch torchvision torchaudio --index-url https://download.pytorch.org/whl/cpu\n",
    "    \n",
    "elif choice == \"2\":\n",
    "    print(\"Installing PyTorch for Nvidia GPU...\")\n",
    "    !pip3 install torch torchvision torchaudio\n",
    "elif choice == \"3\":\n",
    "    print(\"Installing PyTorch for AMD GPU...\")\n",
    "    !pip3 install torch torchvision torchaudio --index-url https://download.pytorch.org/whl/rocm6.2\n",
    "elif choice == \"4\":\n",
    "    print(\"Installing PyTorch for Apple Silicon...\")\n",
    "    !pip3 install torch torchvision torchaudio\n",
    "else:\n",
    "    print(\"Invalid choice. Please run the cell again and select a valid option.\")\n"
   ]
  },
  {
   "cell_type": "markdown",
   "id": "c69e847e",
   "metadata": {},
   "source": [
    "## Step 3: Installind external libraries"
   ]
  },
  {
   "cell_type": "code",
   "execution_count": 3,
   "id": "1b73c75e-2c74-4ca0-8f85-101123a9bcd9",
   "metadata": {
    "scrolled": true
   },
   "outputs": [
    {
     "name": "stdout",
     "output_type": "stream",
     "text": [
      "Collecting scikit-learn\n",
      "  Using cached scikit_learn-1.6.1-cp312-cp312-manylinux_2_17_x86_64.manylinux2014_x86_64.whl.metadata (18 kB)\n",
      "Requirement already satisfied: numpy>=1.19.5 in ./venv/lib64/python3.12/site-packages (from scikit-learn) (2.1.2)\n",
      "Collecting scipy>=1.6.0 (from scikit-learn)\n",
      "  Using cached scipy-1.15.2-cp312-cp312-manylinux_2_17_x86_64.manylinux2014_x86_64.whl.metadata (61 kB)\n",
      "Collecting joblib>=1.2.0 (from scikit-learn)\n",
      "  Using cached joblib-1.4.2-py3-none-any.whl.metadata (5.4 kB)\n",
      "Collecting threadpoolctl>=3.1.0 (from scikit-learn)\n",
      "  Using cached threadpoolctl-3.5.0-py3-none-any.whl.metadata (13 kB)\n",
      "Using cached scikit_learn-1.6.1-cp312-cp312-manylinux_2_17_x86_64.manylinux2014_x86_64.whl (13.1 MB)\n",
      "Using cached joblib-1.4.2-py3-none-any.whl (301 kB)\n",
      "Using cached scipy-1.15.2-cp312-cp312-manylinux_2_17_x86_64.manylinux2014_x86_64.whl (37.3 MB)\n",
      "Using cached threadpoolctl-3.5.0-py3-none-any.whl (18 kB)\n",
      "Installing collected packages: threadpoolctl, scipy, joblib, scikit-learn\n",
      "Successfully installed joblib-1.4.2 scikit-learn-1.6.1 scipy-1.15.2 threadpoolctl-3.5.0\n",
      "Collecting pandas\n",
      "  Using cached pandas-2.2.3-cp312-cp312-manylinux_2_17_x86_64.manylinux2014_x86_64.whl.metadata (89 kB)\n",
      "Requirement already satisfied: numpy>=1.26.0 in ./venv/lib64/python3.12/site-packages (from pandas) (2.1.2)\n",
      "Requirement already satisfied: python-dateutil>=2.8.2 in ./venv/lib64/python3.12/site-packages (from pandas) (2.9.0.post0)\n",
      "Collecting pytz>=2020.1 (from pandas)\n",
      "  Using cached pytz-2025.1-py2.py3-none-any.whl.metadata (22 kB)\n",
      "Collecting tzdata>=2022.7 (from pandas)\n",
      "  Using cached tzdata-2025.1-py2.py3-none-any.whl.metadata (1.4 kB)\n",
      "Requirement already satisfied: six>=1.5 in ./venv/lib64/python3.12/site-packages (from python-dateutil>=2.8.2->pandas) (1.17.0)\n",
      "Using cached pandas-2.2.3-cp312-cp312-manylinux_2_17_x86_64.manylinux2014_x86_64.whl (12.7 MB)\n",
      "Using cached pytz-2025.1-py2.py3-none-any.whl (507 kB)\n",
      "Using cached tzdata-2025.1-py2.py3-none-any.whl (346 kB)\n",
      "Installing collected packages: pytz, tzdata, pandas\n",
      "Successfully installed pandas-2.2.3 pytz-2025.1 tzdata-2025.1\n",
      "Collecting tqdm\n",
      "  Using cached tqdm-4.67.1-py3-none-any.whl.metadata (57 kB)\n",
      "Using cached tqdm-4.67.1-py3-none-any.whl (78 kB)\n",
      "Installing collected packages: tqdm\n",
      "Successfully installed tqdm-4.67.1\n",
      "Collecting vit-pytorch\n",
      "  Using cached vit_pytorch-1.10.1-py3-none-any.whl.metadata (69 kB)\n",
      "Collecting einops>=0.7.0 (from vit-pytorch)\n",
      "  Using cached einops-0.8.1-py3-none-any.whl.metadata (13 kB)\n",
      "Requirement already satisfied: torch>=1.10 in ./venv/lib64/python3.12/site-packages (from vit-pytorch) (2.5.1+rocm6.2)\n",
      "Requirement already satisfied: torchvision in ./venv/lib64/python3.12/site-packages (from vit-pytorch) (0.20.1+rocm6.2)\n",
      "Requirement already satisfied: filelock in ./venv/lib64/python3.12/site-packages (from torch>=1.10->vit-pytorch) (3.13.1)\n",
      "Requirement already satisfied: typing-extensions>=4.8.0 in ./venv/lib64/python3.12/site-packages (from torch>=1.10->vit-pytorch) (4.12.2)\n",
      "Requirement already satisfied: networkx in ./venv/lib64/python3.12/site-packages (from torch>=1.10->vit-pytorch) (3.3)\n",
      "Requirement already satisfied: jinja2 in ./venv/lib64/python3.12/site-packages (from torch>=1.10->vit-pytorch) (3.1.6)\n",
      "Requirement already satisfied: fsspec in ./venv/lib64/python3.12/site-packages (from torch>=1.10->vit-pytorch) (2024.6.1)\n",
      "Requirement already satisfied: pytorch-triton-rocm==3.1.0 in ./venv/lib64/python3.12/site-packages (from torch>=1.10->vit-pytorch) (3.1.0)\n",
      "Requirement already satisfied: setuptools in ./venv/lib64/python3.12/site-packages (from torch>=1.10->vit-pytorch) (75.8.2)\n",
      "Requirement already satisfied: sympy==1.13.1 in ./venv/lib64/python3.12/site-packages (from torch>=1.10->vit-pytorch) (1.13.1)\n",
      "Requirement already satisfied: mpmath<1.4,>=1.1.0 in ./venv/lib64/python3.12/site-packages (from sympy==1.13.1->torch>=1.10->vit-pytorch) (1.3.0)\n",
      "Requirement already satisfied: numpy in ./venv/lib64/python3.12/site-packages (from torchvision->vit-pytorch) (2.1.2)\n",
      "Requirement already satisfied: pillow!=8.3.*,>=5.3.0 in ./venv/lib64/python3.12/site-packages (from torchvision->vit-pytorch) (11.0.0)\n",
      "Requirement already satisfied: MarkupSafe>=2.0 in ./venv/lib64/python3.12/site-packages (from jinja2->torch>=1.10->vit-pytorch) (3.0.2)\n",
      "Using cached vit_pytorch-1.10.1-py3-none-any.whl (140 kB)\n",
      "Using cached einops-0.8.1-py3-none-any.whl (64 kB)\n",
      "Installing collected packages: einops, vit-pytorch\n",
      "Successfully installed einops-0.8.1 vit-pytorch-1.10.1\n"
     ]
    }
   ],
   "source": [
    "!pip3 install scikit-learn\n",
    "!pip3 install pandas\n",
    "!pip3 install tqdm              # Progress meter\n",
    "!pip3 install vit-pytorch       # Crossformer model"
   ]
  },
  {
   "cell_type": "markdown",
   "id": "2637ba68",
   "metadata": {},
   "source": [
    "## Step 4: Add Git LFS support (optional)"
   ]
  },
  {
   "cell_type": "code",
   "execution_count": null,
   "id": "04dd7371",
   "metadata": {},
   "outputs": [],
   "source": [
    "# !git lfs install\n",
    "# !git lfs track \"*.pth\"\n",
    "# !git add .gitattributes"
   ]
  }
 ],
 "metadata": {
  "kernelspec": {
   "display_name": "venv",
   "language": "python",
   "name": "python3"
  },
  "language_info": {
   "codemirror_mode": {
    "name": "ipython",
    "version": 3
   },
   "file_extension": ".py",
   "mimetype": "text/x-python",
   "name": "python",
   "nbconvert_exporter": "python",
   "pygments_lexer": "ipython3",
   "version": "3.12.9"
  }
 },
 "nbformat": 4,
 "nbformat_minor": 5
}
