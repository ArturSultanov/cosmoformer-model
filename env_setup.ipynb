{
 "cells": [
  {
   "cell_type": "markdown",
   "id": "0cac0938",
   "metadata": {},
   "source": [
    "# Environment dependencies setup\n",
    "\n",
    "This file contains steps for preparing the PC environment for model training."
   ]
  },
  {
   "cell_type": "markdown",
   "id": "7c9a5ad0",
   "metadata": {},
   "source": [
    "## Step 1: Update PIP package manager "
   ]
  },
  {
   "cell_type": "code",
   "execution_count": null,
   "id": "b28f093c",
   "metadata": {},
   "outputs": [],
   "source": [
    "%pip install --upgrade pip"
   ]
  },
  {
   "cell_type": "markdown",
   "id": "d4eda648",
   "metadata": {},
   "source": [
    "## Step 2: Install PyTorch\n",
    "Run the cell below to intall PyThorch library with dependecies based on your hardware.  \n",
    "Select PyTorch installation type:\n",
    "1. CPU\n",
    "2. Nvidia GPU\n",
    "3. AMD GPU\n",
    "4. Apple Silicon"
   ]
  },
  {
   "cell_type": "code",
   "execution_count": null,
   "id": "53b98a13-effd-4289-b02b-94effeff36bc",
   "metadata": {
    "scrolled": true
   },
   "outputs": [],
   "source": [
    "# If you see any error, please, check the Python version.\n",
    "\n",
    "choice = input(\"Select PyTorch installation type:\\n\"\n",
    "               \"1. CPU\\n\"\n",
    "               \"2. Nvidia GPU\\n\"\n",
    "               \"3. AMD GPU\\n\"\n",
    "               \"4. Apple Silicon\\n\"\n",
    "               \"Enter the number corresponding to your choice: \")\n",
    "\n",
    "if choice == \"1\":\n",
    "    print(\"Installing PyTorch for CPU...\")\n",
    "    !pip3 install torch torchvision torchaudio --index-url https://download.pytorch.org/whl/cpu\n",
    "    \n",
    "elif choice == \"2\":\n",
    "    print(\"Installing PyTorch for Nvidia GPU...\")\n",
    "    !pip3 install torch torchvision torchaudio\n",
    "elif choice == \"3\":\n",
    "    print(\"Installing PyTorch for AMD GPU...\")\n",
    "    !pip3 install torch torchvision torchaudio --index-url https://download.pytorch.org/whl/rocm6.2\n",
    "elif choice == \"4\":\n",
    "    print(\"Installing PyTorch for Apple Silicon...\")\n",
    "    !pip3 install torch torchvision torchaudio\n",
    "else:\n",
    "    print(\"Invalid choice. Please run the cell again and select a valid option.\")\n"
   ]
  },
  {
   "cell_type": "markdown",
   "id": "c69e847e",
   "metadata": {},
   "source": [
    "## Step 3: Installind external libraries"
   ]
  },
  {
   "cell_type": "code",
   "execution_count": null,
   "id": "1b73c75e-2c74-4ca0-8f85-101123a9bcd9",
   "metadata": {
    "scrolled": true
   },
   "outputs": [],
   "source": [
    "!pip3 install matplotlib\n",
    "!pip3 install scikit-learn\n",
    "!pip3 install pandas\n",
    "!pip3 install pyarrow\n",
    "!pip3 install tqdm              # Progress meter\n",
    "!pip3 install vit-pytorch       # Crossformer model"
   ]
  },
  {
   "cell_type": "markdown",
   "id": "2637ba68",
   "metadata": {},
   "source": [
    "## Step 4: Add Git LFS support (optional)"
   ]
  },
  {
   "cell_type": "code",
   "execution_count": null,
   "id": "04dd7371",
   "metadata": {},
   "outputs": [],
   "source": [
    "# !git lfs install\n",
    "# !git lfs track \"*.pth\"\n",
    "# !git add .gitattributes"
   ]
  }
 ],
 "metadata": {
  "kernelspec": {
   "display_name": "venv",
   "language": "python",
   "name": "python3"
  },
  "language_info": {
   "codemirror_mode": {
    "name": "ipython",
    "version": 3
   },
   "file_extension": ".py",
   "mimetype": "text/x-python",
   "name": "python",
   "nbconvert_exporter": "python",
   "pygments_lexer": "ipython3",
   "version": "3.12.9"
  }
 },
 "nbformat": 4,
 "nbformat_minor": 5
}
