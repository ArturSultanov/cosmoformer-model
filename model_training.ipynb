{
 "cells": [
  {
   "cell_type": "markdown",
   "id": "d4eda648",
   "metadata": {},
   "source": [
    "## Step 1: Import dependencies"
   ]
  },
  {
   "cell_type": "code",
   "execution_count": 1,
   "id": "a9624d65",
   "metadata": {},
   "outputs": [
    {
     "data": {
      "text/plain": [
       "(device(type='cuda'), 11)"
      ]
     },
     "execution_count": 1,
     "metadata": {},
     "output_type": "execute_result"
    }
   ],
   "source": [
    "import os\n",
    "import math\n",
    "import datetime\n",
    "import random\n",
    "import torch\n",
    "import torch.nn as nn\n",
    "import torch.optim as optim\n",
    "import pandas as pd\n",
    "import numpy as np\n",
    "from torch.utils.data import Dataset, DataLoader\n",
    "from torchvision.transforms import v2\n",
    "from tqdm.auto import tqdm\n",
    "from PIL import Image\n",
    "from sklearn.preprocessing import LabelEncoder\n",
    "from vit_pytorch.crossformer import CrossFormer\n",
    "from torch.amp import autocast, GradScaler\n",
    "from torchvision.transforms.v2.functional import InterpolationMode\n",
    "\n",
    "device = torch.device('cuda' if torch.cuda.is_available() else 'mps' if torch.backends.mps.is_available() else 'cpu')\n",
    "num_workers = max((os.cpu_count() or 1) - 1, 0)\n",
    "device, num_workers"
   ]
  },
  {
   "cell_type": "markdown",
   "id": "946a145e",
   "metadata": {},
   "source": [
    "## Step 2: Define dataset"
   ]
  },
  {
   "cell_type": "code",
   "execution_count": 2,
   "id": "eb072e8a",
   "metadata": {},
   "outputs": [],
   "source": [
    "class ParquetImageDataset(Dataset):\n",
    "    \"\"\"\n",
    "    A PyTorch Dataset that reads a Parquet file containing:\n",
    "      - img_path: path to image on disk\n",
    "      - label (str): label of the image (e.g., 'spiral', 'smooth', etc.)\n",
    "    \"\"\"\n",
    "    def __init__(self, parquet_file, transform=None, label_encoder=None):\n",
    "        super().__init__()\n",
    "        self.data = pd.read_parquet(parquet_file)\n",
    "        self.transform = transform\n",
    "        self.label_encoder = label_encoder\n",
    "\n",
    "    def __len__(self):\n",
    "        return len(self.data)\n",
    "\n",
    "    def __getitem__(self, idx):\n",
    "        row = self.data.iloc[idx]\n",
    "        img_path = \"dataset/\"+row['img_path']\n",
    "        label_str = row['label']\n",
    "\n",
    "        image = Image.open(img_path).convert('RGB')\n",
    "\n",
    "        if self.transform is not None:\n",
    "            image = self.transform(image)\n",
    "\n",
    "        if self.label_encoder is not None:\n",
    "            label = self.label_encoder.transform([label_str])[0]\n",
    "            label = torch.tensor(label, dtype=torch.long)\n",
    "        else:\n",
    "            label = label_str\n",
    "\n",
    "        return image, label\n"
   ]
  },
  {
   "cell_type": "code",
   "execution_count": 3,
   "id": "c5abbeee",
   "metadata": {},
   "outputs": [],
   "source": [
    "TRAIN_DATASET_PATH = \"dataset/train.parquet\"\n",
    "VALIDATION_DATASET_PATH = \"dataset/validation.parquet\"\n",
    "TEST_DATASET_PATH = \"dataset/test.parquet\""
   ]
  },
  {
   "cell_type": "code",
   "execution_count": 4,
   "id": "93a1d6a4",
   "metadata": {},
   "outputs": [
    {
     "name": "stdout",
     "output_type": "stream",
     "text": [
      "Classes found: ['barred_spiral' 'edge_on_disk' 'featured_without_bar_or_spiral'\n",
      " 'irregular' 'smooth_cigar' 'smooth_inbetween' 'smooth_round'\n",
      " 'unbarred_spiral'] 8\n"
     ]
    }
   ],
   "source": [
    "train_df = pd.read_parquet(TRAIN_DATASET_PATH)\n",
    "val_df   = pd.read_parquet(VALIDATION_DATASET_PATH)\n",
    "test_df  = pd.read_parquet(TEST_DATASET_PATH)\n",
    "\n",
    "all_labels = pd.concat([train_df['label'], val_df['label'], test_df['label']])\n",
    "\n",
    "le = LabelEncoder()\n",
    "le.fit(all_labels)\n",
    "\n",
    "print(\"Classes found:\", le.classes_, len(le.classes_))"
   ]
  },
  {
   "cell_type": "markdown",
   "id": "2d0a5336",
   "metadata": {},
   "source": [
    "## Step 3: Define On-the-Fly Augmentation"
   ]
  },
  {
   "cell_type": "code",
   "execution_count": 5,
   "id": "787d4d3f",
   "metadata": {},
   "outputs": [],
   "source": [
    "train_transform = v2.Compose([\n",
    "    # 1) Random crop/resize to simulate zoom & shifts\n",
    "    v2.RandomResizedCrop(\n",
    "        size=(224, 224),\n",
    "        scale=(0.8, 1.0),   # random area: 80% ~ 100% of original\n",
    "        ratio=(0.9, 1.1),  # aspect ratio range to allow slight stretching\n",
    "        interpolation=InterpolationMode.BILINEAR\n",
    "    ),\n",
    "    \n",
    "    # 2) Randomly rotate in full 360° range\n",
    "    v2.RandomRotation(\n",
    "        degrees=(-180, 180),\n",
    "        interpolation=InterpolationMode.BILINEAR\n",
    "    ),\n",
    "    \n",
    "    # 3) Random flips (helps orientation invariance)\n",
    "    v2.RandomHorizontalFlip(),\n",
    "    v2.RandomVerticalFlip(),\n",
    "    \n",
    "    # 4) Mild color jitter for brightness, contrast, saturation\n",
    "    v2.ColorJitter(\n",
    "        brightness=0.1,\n",
    "        contrast=0.1,\n",
    "        saturation=0.1,\n",
    "        hue=0.0\n",
    "    ),\n",
    "    \n",
    "    # 5) Randomly apply a slight Gaussian blur (~30% chance)\n",
    "    v2.RandomApply(\n",
    "        [v2.GaussianBlur(kernel_size=3, sigma=(0.1, 2.0))],\n",
    "        p=0.3\n",
    "    ),\n",
    "    \n",
    "    # 6) Convert to float tensor [0..1]\n",
    "    v2.Compose([v2.ToImage(), v2.ToDtype(torch.float32, scale=True)])  # v2.ToTensor()\n",
    "\n",
    "])\n",
    "\n",
    "val_test_transform = v2.Compose([\n",
    "    v2.Resize((224, 224)),\n",
    "    v2.Compose([v2.ToImage(), v2.ToDtype(torch.float32, scale=True)])  # v2.ToTensor()\n",
    "])"
   ]
  },
  {
   "cell_type": "markdown",
   "id": "860898f1",
   "metadata": {},
   "source": [
    "## Step 4: Load Datasets"
   ]
  },
  {
   "cell_type": "code",
   "execution_count": 6,
   "id": "b421e663",
   "metadata": {},
   "outputs": [
    {
     "name": "stdout",
     "output_type": "stream",
     "text": [
      "Train train set size: 125575\n",
      "Validation set size: 41859\n",
      "Test set size: 41859\n"
     ]
    }
   ],
   "source": [
    "train_dataset = ParquetImageDataset(\n",
    "    parquet_file=TRAIN_DATASET_PATH,\n",
    "    transform=train_transform,\n",
    "    label_encoder=le\n",
    ")\n",
    "\n",
    "validation_dataset = ParquetImageDataset(\n",
    "    parquet_file=VALIDATION_DATASET_PATH,\n",
    "    transform=val_test_transform,\n",
    "    label_encoder=le\n",
    ")\n",
    "\n",
    "test_dataset = ParquetImageDataset(\n",
    "    parquet_file=TEST_DATASET_PATH,\n",
    "    transform=val_test_transform,\n",
    "    label_encoder=le\n",
    ")\n",
    "\n",
    "print(\"Train train set size:\", len(train_dataset))\n",
    "print(\"Validation set size:\", len(validation_dataset))\n",
    "print(\"Test set size:\", len(test_dataset))"
   ]
  },
  {
   "cell_type": "markdown",
   "id": "c2539396",
   "metadata": {},
   "source": [
    "## 3. Class Weights + Sampler"
   ]
  },
  {
   "cell_type": "code",
   "execution_count": 7,
   "id": "e3093138",
   "metadata": {},
   "outputs": [
    {
     "data": {
      "text/plain": [
       "label\n",
       "smooth_inbetween                  47179\n",
       "smooth_round                      32944\n",
       "unbarred_spiral                   15672\n",
       "smooth_cigar                      11847\n",
       "irregular                          7089\n",
       "barred_spiral                      5483\n",
       "edge_on_disk                       2774\n",
       "featured_without_bar_or_spiral     2587\n",
       "Name: count, dtype: int64"
      ]
     },
     "execution_count": 7,
     "metadata": {},
     "output_type": "execute_result"
    }
   ],
   "source": [
    "class_counts = train_df['label'].value_counts()\n",
    "\n",
    "class_counts"
   ]
  },
  {
   "cell_type": "code",
   "execution_count": 8,
   "id": "5451248e",
   "metadata": {},
   "outputs": [],
   "source": [
    "num_classes = len(le.classes_)\n",
    "weight_array = np.zeros(num_classes, dtype=np.float32)\n",
    "\n",
    "# Loop through each class label (as a string) in le.classes_, find how many samples it has, and compute 1 / frequency\n",
    "for class_str in le.classes_:\n",
    "    class_idx = le.transform([class_str])[0]\n",
    "    count = class_counts[class_str]\n",
    "    weight_array[class_idx] = 1.0 / count\n"
   ]
  },
  {
   "cell_type": "code",
   "execution_count": 9,
   "id": "a74c7a9e",
   "metadata": {},
   "outputs": [
    {
     "data": {
      "text/plain": [
       "tensor([1.8238e-04, 3.6049e-04, 3.8655e-04, 1.4106e-04, 8.4410e-05, 2.1196e-05,\n",
       "        3.0355e-05, 6.3808e-05], device='cuda:0')"
      ]
     },
     "execution_count": 9,
     "metadata": {},
     "output_type": "execute_result"
    }
   ],
   "source": [
    "class_weights_tensor = torch.tensor(weight_array, dtype=torch.float32).to(device)\n",
    "class_weights_tensor"
   ]
  },
  {
   "cell_type": "code",
   "execution_count": 10,
   "id": "1e09915a",
   "metadata": {},
   "outputs": [
    {
     "data": {
      "text/plain": [
       "(<torch.utils.data.dataloader.DataLoader at 0x7f5092864890>,\n",
       " <torch.utils.data.dataloader.DataLoader at 0x7f545ce0e540>,\n",
       " <torch.utils.data.dataloader.DataLoader at 0x7f519ac59a60>)"
      ]
     },
     "execution_count": 10,
     "metadata": {},
     "output_type": "execute_result"
    }
   ],
   "source": [
    "batch_size = 64\n",
    "\n",
    "train_loader = DataLoader(\n",
    "    train_dataset,\n",
    "    batch_size=batch_size,\n",
    "    shuffle=True,\n",
    "    num_workers=num_workers\n",
    ")\n",
    "\n",
    "val_loader = DataLoader(\n",
    "    validation_dataset,\n",
    "    batch_size=batch_size,\n",
    "    shuffle=False,\n",
    "    num_workers=num_workers\n",
    ")\n",
    "\n",
    "test_loader = DataLoader(\n",
    "    test_dataset,\n",
    "    batch_size=batch_size,\n",
    "    shuffle=False,\n",
    "    num_workers=num_workers\n",
    ")\n",
    "\n",
    "train_loader, val_loader, test_loader"
   ]
  },
  {
   "cell_type": "markdown",
   "id": "1b434865",
   "metadata": {},
   "source": [
    "## Step 5: Initialize CrossFormer Model"
   ]
  },
  {
   "cell_type": "code",
   "execution_count": 11,
   "id": "9c81f466",
   "metadata": {},
   "outputs": [],
   "source": [
    "model = CrossFormer(\n",
    "    num_classes=len(le.classes_),\n",
    "    dim=(32, 64, 128, 256),\n",
    "    depth=(2, 2, 4, 2),\n",
    "    global_window_size=(8, 4, 2, 1),\n",
    "    local_window_size=7,\n",
    "    attn_dropout=0.1,\n",
    "    ff_dropout=0.1\n",
    ").to(device)"
   ]
  },
  {
   "cell_type": "markdown",
   "id": "52fba1d0",
   "metadata": {},
   "source": [
    "## Step 7: Training Loop"
   ]
  },
  {
   "cell_type": "code",
   "execution_count": 12,
   "id": "b78e954e",
   "metadata": {},
   "outputs": [
    {
     "data": {
      "text/plain": [
       "<All keys matched successfully>"
      ]
     },
     "execution_count": 12,
     "metadata": {},
     "output_type": "execute_result"
    }
   ],
   "source": [
    "### Load model from previous training:\n",
    "\n",
    "checkpoint_path = \"checkpoints/checkpoint_epoch_25_20250304_acc_0.7567.pth\"\n",
    "checkpoint = torch.load(checkpoint_path, map_location=device, weights_only=False)\n",
    "\n",
    "model.load_state_dict(checkpoint['model_state_dict'])"
   ]
  },
  {
   "cell_type": "code",
   "execution_count": 13,
   "id": "6e962f10",
   "metadata": {},
   "outputs": [
    {
     "name": "stdout",
     "output_type": "stream",
     "text": [
      "Total number of epochs: 20\n",
      "The number of warm up epochs: 2\n"
     ]
    }
   ],
   "source": [
    "os.makedirs(\"checkpoints\", exist_ok=True) # directory for checkpoints store\n",
    "\n",
    "try:\n",
    "    best_val_acc = checkpoint['val_acc'] \n",
    "except:\n",
    "    best_val_acc = 0.0\n",
    "\n",
    "num_epochs = 20\n",
    "warmup_epochs = round(num_epochs * 0.1)\n",
    "base_lr = 2e-6\n",
    "weight_decay = 1e-4\n",
    "\n",
    "def lr_lambda(epoch):\n",
    "    if epoch < warmup_epochs:\n",
    "        return float(epoch + 1) / warmup_epochs\n",
    "    else:\n",
    "        progress = (epoch - warmup_epochs) / (num_epochs - warmup_epochs)\n",
    "        return 0.5 * (1.0 + math.cos(math.pi * progress))\n",
    "\n",
    "scaler = GradScaler(\"cuda\")\n",
    "criterion = nn.CrossEntropyLoss(weight=class_weights_tensor)\n",
    "# optimizer = optim.AdamW(model.parameters(), lr=base_lr, weight_decay=weight_decay)\n",
    "optimizer = optim.Adam(model.parameters(), lr=base_lr)\n",
    "scheduler = optim.lr_scheduler.LambdaLR(optimizer, lr_lambda=lr_lambda)\n",
    "\n",
    "print(f\"Total number of epochs: {num_epochs}\")\n",
    "print(f\"The number of warm up epochs: {warmup_epochs}\")"
   ]
  },
  {
   "cell_type": "code",
   "execution_count": 14,
   "id": "598c4efb",
   "metadata": {},
   "outputs": [
    {
     "name": "stdout",
     "output_type": "stream",
     "text": [
      "\n",
      "Current LR: 1.00e-06\n"
     ]
    },
    {
     "data": {
      "application/vnd.jupyter.widget-view+json": {
       "model_id": "61870eb43949406fbb8f50453ba497d4",
       "version_major": 2,
       "version_minor": 0
      },
      "text/plain": [
       "Epoch 1/20 [Train]:   0%|          | 0/1963 [00:00<?, ?it/s]"
      ]
     },
     "metadata": {},
     "output_type": "display_data"
    },
    {
     "name": "stderr",
     "output_type": "stream",
     "text": [
      "/home/artursultanov/uni/cosmoformer/venv/lib64/python3.12/site-packages/torch/functional.py:402: UserWarning: Attempting to use hipBLASLt on an unsupported architecture! Overriding blas backend to hipblas (Triggered internally at ../aten/src/ATen/Context.cpp:296.)\n",
      "  return _VF.einsum(equation, operands)  # type: ignore[attr-defined]\n"
     ]
    },
    {
     "data": {
      "application/vnd.jupyter.widget-view+json": {
       "model_id": "dd36b6e9104141e5bc916f88d14ac601",
       "version_major": 2,
       "version_minor": 0
      },
      "text/plain": [
       "Epoch 1/20 [Val]:   0%|          | 0/655 [00:00<?, ?it/s]"
      ]
     },
     "metadata": {},
     "output_type": "display_data"
    },
    {
     "name": "stdout",
     "output_type": "stream",
     "text": [
      "Epoch [1/20] Summary: Train Loss=0.8016  |  Val Loss=0.8158  |  Val Acc=0.7528\n",
      "\n",
      "Current LR: 2.00e-06\n"
     ]
    },
    {
     "data": {
      "application/vnd.jupyter.widget-view+json": {
       "model_id": "2e33825bd09a476b9e44e3e67c520ade",
       "version_major": 2,
       "version_minor": 0
      },
      "text/plain": [
       "Epoch 2/20 [Train]:   0%|          | 0/1963 [00:00<?, ?it/s]"
      ]
     },
     "metadata": {},
     "output_type": "display_data"
    },
    {
     "data": {
      "application/vnd.jupyter.widget-view+json": {
       "model_id": "86bf83480f794e98a4ba4a2934b005af",
       "version_major": 2,
       "version_minor": 0
      },
      "text/plain": [
       "Epoch 2/20 [Val]:   0%|          | 0/655 [00:00<?, ?it/s]"
      ]
     },
     "metadata": {},
     "output_type": "display_data"
    },
    {
     "name": "stdout",
     "output_type": "stream",
     "text": [
      "Epoch [2/20] Summary: Train Loss=0.7954  |  Val Loss=0.8184  |  Val Acc=0.7511\n",
      "\n",
      "Current LR: 2.00e-06\n"
     ]
    },
    {
     "data": {
      "application/vnd.jupyter.widget-view+json": {
       "model_id": "78b23577cf004effbe759dacc9efc7f0",
       "version_major": 2,
       "version_minor": 0
      },
      "text/plain": [
       "Epoch 3/20 [Train]:   0%|          | 0/1963 [00:00<?, ?it/s]"
      ]
     },
     "metadata": {},
     "output_type": "display_data"
    },
    {
     "data": {
      "application/vnd.jupyter.widget-view+json": {
       "model_id": "8818ecac5bb149999b6fe0a6b338c970",
       "version_major": 2,
       "version_minor": 0
      },
      "text/plain": [
       "Epoch 3/20 [Val]:   0%|          | 0/655 [00:00<?, ?it/s]"
      ]
     },
     "metadata": {},
     "output_type": "display_data"
    },
    {
     "name": "stdout",
     "output_type": "stream",
     "text": [
      "Epoch [3/20] Summary: Train Loss=0.7972  |  Val Loss=0.8119  |  Val Acc=0.7523\n",
      "\n",
      "Current LR: 1.98e-06\n"
     ]
    },
    {
     "data": {
      "application/vnd.jupyter.widget-view+json": {
       "model_id": "0b70cc7c66784e34997b651e2a90ae57",
       "version_major": 2,
       "version_minor": 0
      },
      "text/plain": [
       "Epoch 4/20 [Train]:   0%|          | 0/1963 [00:00<?, ?it/s]"
      ]
     },
     "metadata": {},
     "output_type": "display_data"
    },
    {
     "data": {
      "application/vnd.jupyter.widget-view+json": {
       "model_id": "f4de3fa96ed44eba809e6f156e20b862",
       "version_major": 2,
       "version_minor": 0
      },
      "text/plain": [
       "Epoch 4/20 [Val]:   0%|          | 0/655 [00:00<?, ?it/s]"
      ]
     },
     "metadata": {},
     "output_type": "display_data"
    },
    {
     "name": "stderr",
     "output_type": "stream",
     "text": [
      "Exception ignored in: Exception ignored in: <function _MultiProcessingDataLoaderIter.__del__ at 0x7f51f754b060><function _MultiProcessingDataLoaderIter.__del__ at 0x7f51f754b060>\n",
      "Exception ignored in: \n",
      "Traceback (most recent call last):\n",
      "<function _MultiProcessingDataLoaderIter.__del__ at 0x7f51f754b060>Traceback (most recent call last):\n",
      "Exception ignored in:   File \"/home/artursultanov/uni/cosmoformer/venv/lib64/python3.12/site-packages/torch/utils/data/dataloader.py\", line 1604, in __del__\n",
      "<function _MultiProcessingDataLoaderIter.__del__ at 0x7f51f754b060>  File \"/home/artursultanov/uni/cosmoformer/venv/lib64/python3.12/site-packages/torch/utils/data/dataloader.py\", line 1604, in __del__\n",
      "\n",
      "\n",
      "    Traceback (most recent call last):\n",
      "self._shutdown_workers()Exception ignored in:   File \"/home/artursultanov/uni/cosmoformer/venv/lib64/python3.12/site-packages/torch/utils/data/dataloader.py\", line 1604, in __del__\n",
      "Traceback (most recent call last):\n",
      "    <function _MultiProcessingDataLoaderIter.__del__ at 0x7f51f754b060>  File \"/home/artursultanov/uni/cosmoformer/venv/lib64/python3.12/site-packages/torch/utils/data/dataloader.py\", line 1604, in __del__\n",
      "\n",
      "\n",
      "self._shutdown_workers()      File \"/home/artursultanov/uni/cosmoformer/venv/lib64/python3.12/site-packages/torch/utils/data/dataloader.py\", line 1587, in _shutdown_workers\n",
      "    \n",
      "    self._shutdown_workers()Traceback (most recent call last):\n",
      "self._shutdown_workers()  File \"/home/artursultanov/uni/cosmoformer/venv/lib64/python3.12/site-packages/torch/utils/data/dataloader.py\", line 1587, in _shutdown_workers\n",
      "\n",
      "\n",
      "  File \"/home/artursultanov/uni/cosmoformer/venv/lib64/python3.12/site-packages/torch/utils/data/dataloader.py\", line 1604, in __del__\n",
      "if w.is_alive():      File \"/home/artursultanov/uni/cosmoformer/venv/lib64/python3.12/site-packages/torch/utils/data/dataloader.py\", line 1587, in _shutdown_workers\n",
      "    if w.is_alive():\n",
      "  File \"/home/artursultanov/uni/cosmoformer/venv/lib64/python3.12/site-packages/torch/utils/data/dataloader.py\", line 1587, in _shutdown_workers\n",
      " self._shutdown_workers()    \n",
      "\n",
      "       File \"/home/artursultanov/uni/cosmoformer/venv/lib64/python3.12/site-packages/torch/utils/data/dataloader.py\", line 1587, in _shutdown_workers\n",
      " if w.is_alive():  if w.is_alive():\n",
      "\n",
      "             if w.is_alive():    \n",
      "     ^  Exception ignored in:   ^ ^<function _MultiProcessingDataLoaderIter.__del__ at 0x7f51f754b060> \n",
      " ^ Exception ignored in: ^^^ Traceback (most recent call last):\n",
      "^^<function _MultiProcessingDataLoaderIter.__del__ at 0x7f51f754b060>^^^  File \"/home/artursultanov/uni/cosmoformer/venv/lib64/python3.12/site-packages/torch/utils/data/dataloader.py\", line 1604, in __del__\n",
      "^^ ^\n",
      "^    ^Exception ignored in: ^Traceback (most recent call last):\n",
      "^ self._shutdown_workers()^  File \"/home/artursultanov/uni/cosmoformer/venv/lib64/python3.12/site-packages/torch/utils/data/dataloader.py\", line 1604, in __del__\n",
      " ^<function _MultiProcessingDataLoaderIter.__del__ at 0x7f51f754b060>^^^    ^^\n",
      "^^^self._shutdown_workers()^\n",
      "^  File \"/home/artursultanov/uni/cosmoformer/venv/lib64/python3.12/site-packages/torch/utils/data/dataloader.py\", line 1587, in _shutdown_workers\n",
      "^\n",
      "^^^^^^^^  File \"/home/artursultanov/uni/cosmoformer/venv/lib64/python3.12/site-packages/torch/utils/data/dataloader.py\", line 1587, in _shutdown_workers\n",
      "        ^^if w.is_alive():Traceback (most recent call last):\n",
      "^^\n",
      "\n",
      "^^^^  File \"/usr/lib64/python3.12/multiprocessing/process.py\", line 160, in is_alive\n",
      "if w.is_alive(): ^^\n",
      "  File \"/usr/lib64/python3.12/multiprocessing/process.py\", line 160, in is_alive\n",
      "  File \"/home/artursultanov/uni/cosmoformer/venv/lib64/python3.12/site-packages/torch/utils/data/dataloader.py\", line 1604, in __del__\n",
      "^    \n",
      "   File \"/home/artursultanov/uni/cosmoformer/venv/lib64/python3.12/site-packages/torch/utils/data/dataloader.py\", line 1587, in _shutdown_workers\n",
      "^    assert self._parent_pid == os.getpid(), 'can only test a child process'^^    File \"/usr/lib64/python3.12/multiprocessing/process.py\", line 160, in is_alive\n",
      "assert self._parent_pid == os.getpid(), 'can only test a child process'\n",
      "\n",
      "^^ AssertionError\n",
      "Exception ignored in:    ^\n",
      " :    <function _MultiProcessingDataLoaderIter.__del__ at 0x7f51f754b060>   \n",
      "  ^   File \"/usr/lib64/python3.12/multiprocessing/process.py\", line 160, in is_alive\n",
      "Traceback (most recent call last):\n",
      "^ can only test a child process ^  File \"/home/artursultanov/uni/cosmoformer/venv/lib64/python3.12/site-packages/torch/utils/data/dataloader.py\", line 1604, in __del__\n",
      " \n",
      "   File \"/usr/lib64/python3.12/multiprocessing/process.py\", line 160, in is_alive\n",
      "     ^     ^Exception ignored in:     self._shutdown_workers()  ^<function _MultiProcessingDataLoaderIter.__del__ at 0x7f51f754b060>^ assert self._parent_pid == os.getpid(), 'can only test a child process' \n",
      "assert self._parent_pid == os.getpid(), 'can only test a child process'^^^Traceback (most recent call last):\n",
      "\n",
      "^^ \n",
      " ^  File \"/home/artursultanov/uni/cosmoformer/venv/lib64/python3.12/site-packages/torch/utils/data/dataloader.py\", line 1587, in _shutdown_workers\n",
      "Exception ignored in:   File \"/home/artursultanov/uni/cosmoformer/venv/lib64/python3.12/site-packages/torch/utils/data/dataloader.py\", line 1604, in __del__\n",
      "\n",
      "\n",
      "  <function _MultiProcessingDataLoaderIter.__del__ at 0x7f51f754b060>^     ^  \n",
      "  ^   ^    Traceback (most recent call last):\n",
      "self._shutdown_workers() ^   File \"/usr/lib64/python3.12/multiprocessing/process.py\", line 160, in is_alive\n",
      "^^if w.is_alive():  File \"/home/artursultanov/uni/cosmoformer/venv/lib64/python3.12/site-packages/torch/utils/data/dataloader.py\", line 1604, in __del__\n",
      "\n",
      "  ^^^    \n",
      " ^^  File \"/home/artursultanov/uni/cosmoformer/venv/lib64/python3.12/site-packages/torch/utils/data/dataloader.py\", line 1587, in _shutdown_workers\n",
      " assert self._parent_pid == os.getpid(), 'can only test a child process'^^      ^     \n",
      "^^^^  self._shutdown_workers()if w.is_alive():^\n",
      "  \n",
      "^ ^ ^\n",
      "   File \"/usr/lib64/python3.12/multiprocessing/process.py\", line 160, in is_alive\n",
      "  File \"/home/artursultanov/uni/cosmoformer/venv/lib64/python3.12/site-packages/torch/utils/data/dataloader.py\", line 1587, in _shutdown_workers\n",
      "   \n",
      "     ^ ^         File \"/usr/lib64/python3.12/multiprocessing/process.py\", line 160, in is_alive\n",
      "^assert self._parent_pid == os.getpid(), 'can only test a child process'^   \n",
      "^     if w.is_alive():  ^  ^ assert self._parent_pid == os.getpid(), 'can only test a child process' ^\n",
      " ^^ ^  \n",
      " ^^^^^  ^ ^  ^^  ^^ ^  ^^^ ^^^   ^^^ ^^^ ^  ^^ ^^^^  ^  ^^^ ^^^^^^ ^^ ^^^^^^  ^^^^^  ^^^^^^^^ ^^^^^^^ ^^^^^^^^\n",
      "   File \"/usr/lib64/python3.12/multiprocessing/process.py\", line 160, in is_alive\n",
      "^^^^^^^^^^^^^^^^    ^^^^^^^^^assert self._parent_pid == os.getpid(), 'can only test a child process'\n",
      "^^^^^^^\n",
      "^  File \"/usr/lib64/python3.12/multiprocessing/process.py\", line 160, in is_alive\n",
      "^^^^^^ ^^    ^^^^^^^assert self._parent_pid == os.getpid(), 'can only test a child process' ^^^^\n",
      "^^^ ^^^^ ^^^^^^^ ^ ^^^^^^  ^^\n",
      "^^^ ^^^  File \"/usr/lib64/python3.12/multiprocessing/process.py\", line 160, in is_alive\n",
      "^ ^ ^^\n",
      "^^ ^^    ^ ^ \n",
      "^^AssertionError^assert self._parent_pid == os.getpid(), 'can only test a child process'^^ AssertionError ^: ^^\n",
      "^^: ^  can only test a child process^^ ^ ^^can only test a child process^\n",
      "^^ ^^^ \n",
      "^^^^ ^^ ^^^^ ^^^ ^^ ^^^^^^^^ ^^^ ^^^^^^\n",
      "^^AssertionError^ ^^^^\n",
      "^ ^\n",
      "^AssertionError^:  ^can only test a child process^^: AssertionError ^^can only test a child process: ^^^can only test a child process\n",
      "^\n",
      "^\n",
      "^^^^^^^^^^^^^^^^^\n",
      "^^^^^AssertionError^^^^^: ^^can only test a child process^^^^^^^^\n",
      "^^^^^^\n",
      "^^AssertionError^^^^: ^^can only test a child process^^\n",
      "^^^^^^^^^^^^^^^\n",
      "AssertionError^^^: ^^can only test a child process^\n",
      "^^^^^^\n",
      "AssertionError^: ^^can only test a child processAssertionError\n",
      "\n",
      ": can only test a child process\n"
     ]
    },
    {
     "name": "stdout",
     "output_type": "stream",
     "text": [
      "Epoch [4/20] Summary: Train Loss=0.7962  |  Val Loss=0.8120  |  Val Acc=0.7517\n",
      "\n",
      "Current LR: 1.94e-06\n"
     ]
    },
    {
     "data": {
      "application/vnd.jupyter.widget-view+json": {
       "model_id": "071781b15920422e8267c410f2215a9d",
       "version_major": 2,
       "version_minor": 0
      },
      "text/plain": [
       "Epoch 5/20 [Train]:   0%|          | 0/1963 [00:00<?, ?it/s]"
      ]
     },
     "metadata": {},
     "output_type": "display_data"
    },
    {
     "data": {
      "application/vnd.jupyter.widget-view+json": {
       "model_id": "b2982bd610ba468dbf736f39b7720678",
       "version_major": 2,
       "version_minor": 0
      },
      "text/plain": [
       "Epoch 5/20 [Val]:   0%|          | 0/655 [00:00<?, ?it/s]"
      ]
     },
     "metadata": {},
     "output_type": "display_data"
    },
    {
     "name": "stdout",
     "output_type": "stream",
     "text": [
      "Epoch [5/20] Summary: Train Loss=0.7957  |  Val Loss=0.8115  |  Val Acc=0.7550\n",
      "\n",
      "Current LR: 1.87e-06\n"
     ]
    },
    {
     "data": {
      "application/vnd.jupyter.widget-view+json": {
       "model_id": "0b11b52cb0164d8e9c9d0b12f232a3f7",
       "version_major": 2,
       "version_minor": 0
      },
      "text/plain": [
       "Epoch 6/20 [Train]:   0%|          | 0/1963 [00:00<?, ?it/s]"
      ]
     },
     "metadata": {},
     "output_type": "display_data"
    },
    {
     "name": "stderr",
     "output_type": "stream",
     "text": [
      "Exception ignored in: <function _MultiProcessingDataLoaderIter.__del__ at 0x7f51f754b060>\n",
      "Traceback (most recent call last):\n",
      "  File \"/home/artursultanov/uni/cosmoformer/venv/lib64/python3.12/site-packages/torch/utils/data/dataloader.py\", line 1604, in __del__\n",
      "    self._shutdown_workers()\n",
      "  File \"/home/artursultanov/uni/cosmoformer/venv/lib64/python3.12/site-packages/torch/utils/data/dataloader.py\", line 1587, in _shutdown_workers\n",
      "    if w.is_alive():\n",
      "       ^^^^^^^^^^^^\n",
      "  File \"/usr/lib64/python3.12/multiprocessing/process.py\", line 160, in is_alive\n",
      "    assert self._parent_pid == os.getpid(), 'can only test a child process'\n",
      "           ^^^^^^^^^^^^^^^^^^^^^^^^^^^^^^^\n",
      "AssertionError: can only test a child process\n",
      "Exception ignored in: <function _MultiProcessingDataLoaderIter.__del__ at 0x7f51f754b060>\n",
      "Traceback (most recent call last):\n",
      "  File \"/home/artursultanov/uni/cosmoformer/venv/lib64/python3.12/site-packages/torch/utils/data/dataloader.py\", line 1604, in __del__\n",
      "    self._shutdown_workers()\n",
      "  File \"/home/artursultanov/uni/cosmoformer/venv/lib64/python3.12/site-packages/torch/utils/data/dataloader.py\", line 1587, in _shutdown_workers\n",
      "    if w.is_alive():\n",
      "       ^^^^^^^^^^^^\n",
      "  File \"/usr/lib64/python3.12/multiprocessing/process.py\", line 160, in is_alive\n",
      "    assert self._parent_pid == os.getpid(), 'can only test a child process'\n",
      "           ^^^^^^^^^^^^^^^^^^^^^^^^^^^^^^^\n",
      "AssertionError: can only test a child process\n",
      "Exception ignored in: <function _MultiProcessingDataLoaderIter.__del__ at 0x7f51f754b060>\n",
      "Traceback (most recent call last):\n",
      "  File \"/home/artursultanov/uni/cosmoformer/venv/lib64/python3.12/site-packages/torch/utils/data/dataloader.py\", line 1604, in __del__\n",
      "    self._shutdown_workers()\n",
      "  File \"/home/artursultanov/uni/cosmoformer/venv/lib64/python3.12/site-packages/torch/utils/data/dataloader.py\", line 1587, in _shutdown_workers\n",
      "    if w.is_alive():\n",
      "       ^^^^^^^^^^^^\n",
      "  File \"/usr/lib64/python3.12/multiprocessing/process.py\", line 160, in is_alive\n",
      "    assert self._parent_pid == os.getpid(), 'can only test a child process'\n",
      "           ^^^^^^^^^^^^^^^^^^^^^^^^^^^^^^^\n",
      "AssertionError: can only test a child process\n",
      "Exception ignored in: <function _MultiProcessingDataLoaderIter.__del__ at 0x7f51f754b060>\n",
      "Traceback (most recent call last):\n",
      "  File \"/home/artursultanov/uni/cosmoformer/venv/lib64/python3.12/site-packages/torch/utils/data/dataloader.py\", line 1604, in __del__\n",
      "    self._shutdown_workers()\n",
      "  File \"/home/artursultanov/uni/cosmoformer/venv/lib64/python3.12/site-packages/torch/utils/data/dataloader.py\", line 1587, in _shutdown_workers\n",
      "    if w.is_alive():\n",
      "       ^^^^^^^^^^^^\n",
      "  File \"/usr/lib64/python3.12/multiprocessing/process.py\", line 160, in is_alive\n",
      "    assert self._parent_pid == os.getpid(), 'can only test a child process'\n",
      "           ^^^^^^^^^^^^^^^^^^^^^^^^^^^^^^^\n",
      "AssertionError: can only test a child process\n",
      "Exception ignored in: <function _MultiProcessingDataLoaderIter.__del__ at 0x7f51f754b060>\n",
      "Traceback (most recent call last):\n",
      "  File \"/home/artursultanov/uni/cosmoformer/venv/lib64/python3.12/site-packages/torch/utils/data/dataloader.py\", line 1604, in __del__\n",
      "    self._shutdown_workers()\n",
      "  File \"/home/artursultanov/uni/cosmoformer/venv/lib64/python3.12/site-packages/torch/utils/data/dataloader.py\", line 1587, in _shutdown_workers\n",
      "    if w.is_alive():\n",
      "       ^^^^^^^^^^^^\n",
      "  File \"/usr/lib64/python3.12/multiprocessing/process.py\", line 160, in is_alive\n",
      "    assert self._parent_pid == os.getpid(), 'can only test a child process'\n",
      "           ^^^^^^^^^^^^^^^^^^^^^^^^^^^^^^^\n",
      "AssertionError: can only test a child process\n",
      "Exception ignored in: <function _MultiProcessingDataLoaderIter.__del__ at 0x7f51f754b060>\n",
      "Traceback (most recent call last):\n",
      "  File \"/home/artursultanov/uni/cosmoformer/venv/lib64/python3.12/site-packages/torch/utils/data/dataloader.py\", line 1604, in __del__\n",
      "    self._shutdown_workers()\n",
      "  File \"/home/artursultanov/uni/cosmoformer/venv/lib64/python3.12/site-packages/torch/utils/data/dataloader.py\", line 1587, in _shutdown_workers\n",
      "    if w.is_alive():\n",
      "       ^^^^^^^^^^^^\n",
      "  File \"/usr/lib64/python3.12/multiprocessing/process.py\", line 160, in is_alive\n",
      "    assert self._parent_pid == os.getpid(), 'can only test a child process'\n",
      "           ^^^^^^^^^^^^^^^^^^^^^^^^^^^^^^^\n",
      "AssertionError: can only test a child process\n",
      "Exception ignored in: <function _MultiProcessingDataLoaderIter.__del__ at 0x7f51f754b060>\n",
      "Traceback (most recent call last):\n",
      "  File \"/home/artursultanov/uni/cosmoformer/venv/lib64/python3.12/site-packages/torch/utils/data/dataloader.py\", line 1604, in __del__\n",
      "    self._shutdown_workers()\n",
      "  File \"/home/artursultanov/uni/cosmoformer/venv/lib64/python3.12/site-packages/torch/utils/data/dataloader.py\", line 1587, in _shutdown_workers\n",
      "    if w.is_alive():\n",
      "       ^^^^^^^^^^^^\n",
      "  File \"/usr/lib64/python3.12/multiprocessing/process.py\", line 160, in is_alive\n",
      "    assert self._parent_pid == os.getpid(), 'can only test a child process'\n",
      "           ^^^^^^^^^^^^^^^^^^^^^^^^^^^^^^^\n",
      "AssertionError: can only test a child process\n",
      "Exception ignored in: <function _MultiProcessingDataLoaderIter.__del__ at 0x7f51f754b060>\n",
      "Traceback (most recent call last):\n",
      "  File \"/home/artursultanov/uni/cosmoformer/venv/lib64/python3.12/site-packages/torch/utils/data/dataloader.py\", line 1604, in __del__\n",
      "    self._shutdown_workers()\n",
      "  File \"/home/artursultanov/uni/cosmoformer/venv/lib64/python3.12/site-packages/torch/utils/data/dataloader.py\", line 1587, in _shutdown_workers\n",
      "    if w.is_alive():\n",
      "       ^^^^^^^^^^^^\n",
      "  File \"/usr/lib64/python3.12/multiprocessing/process.py\", line 160, in is_alive\n",
      "    assert self._parent_pid == os.getpid(), 'can only test a child process'\n",
      "           ^^^^^^^^^^^^^^^^^^^^^^^^^^^^^^^\n",
      "AssertionError: can only test a child process\n",
      "Exception ignored in: <function _MultiProcessingDataLoaderIter.__del__ at 0x7f51f754b060>\n",
      "Traceback (most recent call last):\n",
      "  File \"/home/artursultanov/uni/cosmoformer/venv/lib64/python3.12/site-packages/torch/utils/data/dataloader.py\", line 1604, in __del__\n",
      "    self._shutdown_workers()\n",
      "  File \"/home/artursultanov/uni/cosmoformer/venv/lib64/python3.12/site-packages/torch/utils/data/dataloader.py\", line 1587, in _shutdown_workers\n",
      "    if w.is_alive():\n",
      "       ^^^^^^^^^^^^\n",
      "  File \"/usr/lib64/python3.12/multiprocessing/process.py\", line 160, in is_alive\n",
      "    assert self._parent_pid == os.getpid(), 'can only test a child process'\n",
      "           ^^^^^^^^^^^^^^^^^^^^^^^^^^^^^^^\n",
      "AssertionError: can only test a child process\n",
      "Exception ignored in: <function _MultiProcessingDataLoaderIter.__del__ at 0x7f51f754b060>\n",
      "Traceback (most recent call last):\n",
      "  File \"/home/artursultanov/uni/cosmoformer/venv/lib64/python3.12/site-packages/torch/utils/data/dataloader.py\", line 1604, in __del__\n",
      "    self._shutdown_workers()\n",
      "  File \"/home/artursultanov/uni/cosmoformer/venv/lib64/python3.12/site-packages/torch/utils/data/dataloader.py\", line 1587, in _shutdown_workers\n",
      "    if w.is_alive():\n",
      "       ^^^^^^^^^^^^\n",
      "  File \"/usr/lib64/python3.12/multiprocessing/process.py\", line 160, in is_alive\n",
      "    assert self._parent_pid == os.getpid(), 'can only test a child process'\n",
      "           ^^^^^^^^^^^^^^^^^^^^^^^^^^^^^^^\n",
      "AssertionError: can only test a child process\n",
      "Exception ignored in: <function _MultiProcessingDataLoaderIter.__del__ at 0x7f51f754b060>\n",
      "Traceback (most recent call last):\n",
      "  File \"/home/artursultanov/uni/cosmoformer/venv/lib64/python3.12/site-packages/torch/utils/data/dataloader.py\", line 1604, in __del__\n",
      "    self._shutdown_workers()\n",
      "  File \"/home/artursultanov/uni/cosmoformer/venv/lib64/python3.12/site-packages/torch/utils/data/dataloader.py\", line 1587, in _shutdown_workers\n",
      "    if w.is_alive():\n",
      "       ^^^^^^^^^^^^\n",
      "  File \"/usr/lib64/python3.12/multiprocessing/process.py\", line 160, in is_alive\n",
      "    assert self._parent_pid == os.getpid(), 'can only test a child process'\n",
      "           ^^^^^^^^^^^^^^^^^^^^^^^^^^^^^^^\n",
      "AssertionError: can only test a child process\n",
      "Exception ignored in: <function _MultiProcessingDataLoaderIter.__del__ at 0x7f51f754b060>\n",
      "Traceback (most recent call last):\n",
      "  File \"/home/artursultanov/uni/cosmoformer/venv/lib64/python3.12/site-packages/torch/utils/data/dataloader.py\", line 1604, in __del__\n",
      "    self._shutdown_workers()\n",
      "  File \"/home/artursultanov/uni/cosmoformer/venv/lib64/python3.12/site-packages/torch/utils/data/dataloader.py\", line 1587, in _shutdown_workers\n",
      "    if w.is_alive():\n",
      "       ^^^^^^^^^^^^\n",
      "  File \"/usr/lib64/python3.12/multiprocessing/process.py\", line 160, in is_alive\n",
      "    assert self._parent_pid == os.getpid(), 'can only test a child process'\n",
      "           ^^^^^^^^^^^^^^^^^^^^^^^^^^^^^^^\n",
      "AssertionError: can only test a child process\n",
      "Exception ignored in: <function _MultiProcessingDataLoaderIter.__del__ at 0x7f51f754b060>\n",
      "Traceback (most recent call last):\n",
      "  File \"/home/artursultanov/uni/cosmoformer/venv/lib64/python3.12/site-packages/torch/utils/data/dataloader.py\", line 1604, in __del__\n",
      "    self._shutdown_workers()\n",
      "  File \"/home/artursultanov/uni/cosmoformer/venv/lib64/python3.12/site-packages/torch/utils/data/dataloader.py\", line 1587, in _shutdown_workers\n",
      "    if w.is_alive():\n",
      "       ^^^^^^^^^^^^\n",
      "  File \"/usr/lib64/python3.12/multiprocessing/process.py\", line 160, in is_alive\n",
      "    assert self._parent_pid == os.getpid(), 'can only test a child process'\n",
      "           ^^^^^^^^^^^^^^^^^^^^^^^^^^^^^^^\n",
      "AssertionError: can only test a child process\n",
      "Exception ignored in: <function _MultiProcessingDataLoaderIter.__del__ at 0x7f51f754b060>\n",
      "Traceback (most recent call last):\n",
      "  File \"/home/artursultanov/uni/cosmoformer/venv/lib64/python3.12/site-packages/torch/utils/data/dataloader.py\", line 1604, in __del__\n",
      "    self._shutdown_workers()\n",
      "  File \"/home/artursultanov/uni/cosmoformer/venv/lib64/python3.12/site-packages/torch/utils/data/dataloader.py\", line 1587, in _shutdown_workers\n",
      "    if w.is_alive():\n",
      "       ^^^^^^^^^^^^\n",
      "  File \"/usr/lib64/python3.12/multiprocessing/process.py\", line 160, in is_alive\n",
      "    assert self._parent_pid == os.getpid(), 'can only test a child process'\n",
      "           ^^^^^^^^^^^^^^^^^^^^^^^^^^^^^^^\n",
      "AssertionError: can only test a child process\n",
      "Exception ignored in: <function _MultiProcessingDataLoaderIter.__del__ at 0x7f51f754b060>\n",
      "Traceback (most recent call last):\n",
      "  File \"/home/artursultanov/uni/cosmoformer/venv/lib64/python3.12/site-packages/torch/utils/data/dataloader.py\", line 1604, in __del__\n",
      "    self._shutdown_workers()\n",
      "  File \"/home/artursultanov/uni/cosmoformer/venv/lib64/python3.12/site-packages/torch/utils/data/dataloader.py\", line 1587, in _shutdown_workers\n",
      "    if w.is_alive():\n",
      "       ^^^^^^^^^^^^\n",
      "  File \"/usr/lib64/python3.12/multiprocessing/process.py\", line 160, in is_alive\n",
      "    assert self._parent_pid == os.getpid(), 'can only test a child process'\n",
      "           ^^^^^^^^^^^^^^^^^^^^^^^^^^^^^^^\n",
      "AssertionError: can only test a child process\n",
      "Exception ignored in: <function _MultiProcessingDataLoaderIter.__del__ at 0x7f51f754b060>\n",
      "Traceback (most recent call last):\n",
      "  File \"/home/artursultanov/uni/cosmoformer/venv/lib64/python3.12/site-packages/torch/utils/data/dataloader.py\", line 1604, in __del__\n",
      "    self._shutdown_workers()\n",
      "  File \"/home/artursultanov/uni/cosmoformer/venv/lib64/python3.12/site-packages/torch/utils/data/dataloader.py\", line 1587, in _shutdown_workers\n",
      "    if w.is_alive():\n",
      "       ^^^^^^^^^^^^\n",
      "  File \"/usr/lib64/python3.12/multiprocessing/process.py\", line 160, in is_alive\n",
      "    assert self._parent_pid == os.getpid(), 'can only test a child process'\n",
      "           ^^^^^^^^^^^^^^^^^^^^^^^^^^^^^^^\n",
      "AssertionError: can only test a child process\n",
      "Exception ignored in: <function _MultiProcessingDataLoaderIter.__del__ at 0x7f51f754b060>\n",
      "Traceback (most recent call last):\n",
      "  File \"/home/artursultanov/uni/cosmoformer/venv/lib64/python3.12/site-packages/torch/utils/data/dataloader.py\", line 1604, in __del__\n",
      "    self._shutdown_workers()\n",
      "  File \"/home/artursultanov/uni/cosmoformer/venv/lib64/python3.12/site-packages/torch/utils/data/dataloader.py\", line 1587, in _shutdown_workers\n",
      "    if w.is_alive():\n",
      "       ^^^^^^^^^^^^\n",
      "  File \"/usr/lib64/python3.12/multiprocessing/process.py\", line 160, in is_alive\n",
      "    assert self._parent_pid == os.getpid(), 'can only test a child process'\n",
      "           ^^^^^^^^^^^^^^^^^^^^^^^^^^^^^^^\n",
      "AssertionError: can only test a child process\n",
      "Exception ignored in: <function _MultiProcessingDataLoaderIter.__del__ at 0x7f51f754b060>\n",
      "Traceback (most recent call last):\n",
      "  File \"/home/artursultanov/uni/cosmoformer/venv/lib64/python3.12/site-packages/torch/utils/data/dataloader.py\", line 1604, in __del__\n",
      "    self._shutdown_workers()\n",
      "  File \"/home/artursultanov/uni/cosmoformer/venv/lib64/python3.12/site-packages/torch/utils/data/dataloader.py\", line 1587, in _shutdown_workers\n",
      "    if w.is_alive():\n",
      "       ^^^^^^^^^^^^\n",
      "  File \"/usr/lib64/python3.12/multiprocessing/process.py\", line 160, in is_alive\n",
      "    assert self._parent_pid == os.getpid(), 'can only test a child process'\n",
      "           ^^^^^^^^^^^^^^^^^^^^^^^^^^^^^^^\n",
      "AssertionError: can only test a child process\n",
      "Exception ignored in: <function _MultiProcessingDataLoaderIter.__del__ at 0x7f51f754b060>\n",
      "Traceback (most recent call last):\n",
      "  File \"/home/artursultanov/uni/cosmoformer/venv/lib64/python3.12/site-packages/torch/utils/data/dataloader.py\", line 1604, in __del__\n",
      "    self._shutdown_workers()\n",
      "  File \"/home/artursultanov/uni/cosmoformer/venv/lib64/python3.12/site-packages/torch/utils/data/dataloader.py\", line 1587, in _shutdown_workers\n",
      "    if w.is_alive():\n",
      "       ^^^^^^^^^^^^\n",
      "  File \"/usr/lib64/python3.12/multiprocessing/process.py\", line 160, in is_alive\n",
      "    assert self._parent_pid == os.getpid(), 'can only test a child process'\n",
      "           ^^^^^^^^^^^^^^^^^^^^^^^^^^^^^^^\n",
      "AssertionError: can only test a child process\n",
      "Exception ignored in: <function _MultiProcessingDataLoaderIter.__del__ at 0x7f51f754b060>\n",
      "Traceback (most recent call last):\n",
      "  File \"/home/artursultanov/uni/cosmoformer/venv/lib64/python3.12/site-packages/torch/utils/data/dataloader.py\", line 1604, in __del__\n",
      "    self._shutdown_workers()\n",
      "  File \"/home/artursultanov/uni/cosmoformer/venv/lib64/python3.12/site-packages/torch/utils/data/dataloader.py\", line 1587, in _shutdown_workers\n",
      "    if w.is_alive():\n",
      "       ^^^^^^^^^^^^\n",
      "  File \"/usr/lib64/python3.12/multiprocessing/process.py\", line 160, in is_alive\n",
      "    assert self._parent_pid == os.getpid(), 'can only test a child process'\n",
      "           ^^^^^^^^^^^^^^^^^^^^^^^^^^^^^^^\n",
      "AssertionError: can only test a child process\n",
      "Exception ignored in: <function _MultiProcessingDataLoaderIter.__del__ at 0x7f51f754b060>\n",
      "Traceback (most recent call last):\n",
      "  File \"/home/artursultanov/uni/cosmoformer/venv/lib64/python3.12/site-packages/torch/utils/data/dataloader.py\", line 1604, in __del__\n",
      "    self._shutdown_workers()\n",
      "  File \"/home/artursultanov/uni/cosmoformer/venv/lib64/python3.12/site-packages/torch/utils/data/dataloader.py\", line 1587, in _shutdown_workers\n",
      "    if w.is_alive():\n",
      "       ^^^^^^^^^^^^\n",
      "  File \"/usr/lib64/python3.12/multiprocessing/process.py\", line 160, in is_alive\n",
      "    assert self._parent_pid == os.getpid(), 'can only test a child process'\n",
      "           ^^^^^^^^^^^^^^^^^^^^^^^^^^^^^^^\n",
      "AssertionError: can only test a child process\n",
      "Exception ignored in: <function _MultiProcessingDataLoaderIter.__del__ at 0x7f51f754b060>\n",
      "Traceback (most recent call last):\n",
      "  File \"/home/artursultanov/uni/cosmoformer/venv/lib64/python3.12/site-packages/torch/utils/data/dataloader.py\", line 1604, in __del__\n",
      "    self._shutdown_workers()\n",
      "  File \"/home/artursultanov/uni/cosmoformer/venv/lib64/python3.12/site-packages/torch/utils/data/dataloader.py\", line 1587, in _shutdown_workers\n",
      "    if w.is_alive():\n",
      "       ^^^^^^^^^^^^\n",
      "  File \"/usr/lib64/python3.12/multiprocessing/process.py\", line 160, in is_alive\n",
      "    assert self._parent_pid == os.getpid(), 'can only test a child process'\n",
      "           ^^^^^^^^^^^^^^^^^^^^^^^^^^^^^^^\n",
      "AssertionError: can only test a child process\n"
     ]
    },
    {
     "data": {
      "application/vnd.jupyter.widget-view+json": {
       "model_id": "98e4d9bddffb4a80afba2df5238b035d",
       "version_major": 2,
       "version_minor": 0
      },
      "text/plain": [
       "Epoch 6/20 [Val]:   0%|          | 0/655 [00:00<?, ?it/s]"
      ]
     },
     "metadata": {},
     "output_type": "display_data"
    },
    {
     "name": "stdout",
     "output_type": "stream",
     "text": [
      "Epoch [6/20] Summary: Train Loss=0.7949  |  Val Loss=0.8113  |  Val Acc=0.7571\n",
      "\n",
      "Current LR: 1.77e-06\n"
     ]
    },
    {
     "data": {
      "application/vnd.jupyter.widget-view+json": {
       "model_id": "85633d0efc0c492b9e8e1398fe4d79ca",
       "version_major": 2,
       "version_minor": 0
      },
      "text/plain": [
       "Epoch 7/20 [Train]:   0%|          | 0/1963 [00:00<?, ?it/s]"
      ]
     },
     "metadata": {},
     "output_type": "display_data"
    },
    {
     "data": {
      "application/vnd.jupyter.widget-view+json": {
       "model_id": "fa90615bc0c94a41858cd62ac519f8dc",
       "version_major": 2,
       "version_minor": 0
      },
      "text/plain": [
       "Epoch 7/20 [Val]:   0%|          | 0/655 [00:00<?, ?it/s]"
      ]
     },
     "metadata": {},
     "output_type": "display_data"
    },
    {
     "name": "stdout",
     "output_type": "stream",
     "text": [
      "Epoch [7/20] Summary: Train Loss=0.7959  |  Val Loss=0.8122  |  Val Acc=0.7514\n",
      "\n",
      "Current LR: 1.64e-06\n"
     ]
    },
    {
     "data": {
      "application/vnd.jupyter.widget-view+json": {
       "model_id": "8bee0bce22bb443b9bd1784f77d11d2c",
       "version_major": 2,
       "version_minor": 0
      },
      "text/plain": [
       "Epoch 8/20 [Train]:   0%|          | 0/1963 [00:00<?, ?it/s]"
      ]
     },
     "metadata": {},
     "output_type": "display_data"
    },
    {
     "data": {
      "application/vnd.jupyter.widget-view+json": {
       "model_id": "9080aa668efd47de8b75752153f95b43",
       "version_major": 2,
       "version_minor": 0
      },
      "text/plain": [
       "Epoch 8/20 [Val]:   0%|          | 0/655 [00:00<?, ?it/s]"
      ]
     },
     "metadata": {},
     "output_type": "display_data"
    },
    {
     "name": "stdout",
     "output_type": "stream",
     "text": [
      "Epoch [8/20] Summary: Train Loss=0.7951  |  Val Loss=0.8115  |  Val Acc=0.7556\n",
      "\n",
      "Current LR: 1.50e-06\n"
     ]
    },
    {
     "data": {
      "application/vnd.jupyter.widget-view+json": {
       "model_id": "e548cb6b3c9044cb973cffa9f2e1111e",
       "version_major": 2,
       "version_minor": 0
      },
      "text/plain": [
       "Epoch 9/20 [Train]:   0%|          | 0/1963 [00:00<?, ?it/s]"
      ]
     },
     "metadata": {},
     "output_type": "display_data"
    },
    {
     "data": {
      "application/vnd.jupyter.widget-view+json": {
       "model_id": "530000739eca433cbfaf86a6f737982b",
       "version_major": 2,
       "version_minor": 0
      },
      "text/plain": [
       "Epoch 9/20 [Val]:   0%|          | 0/655 [00:00<?, ?it/s]"
      ]
     },
     "metadata": {},
     "output_type": "display_data"
    },
    {
     "name": "stdout",
     "output_type": "stream",
     "text": [
      "Epoch [9/20] Summary: Train Loss=0.7943  |  Val Loss=0.8149  |  Val Acc=0.7542\n",
      "\n",
      "Current LR: 1.34e-06\n"
     ]
    },
    {
     "data": {
      "application/vnd.jupyter.widget-view+json": {
       "model_id": "15b0f6e400974f46bbc147555b1052c0",
       "version_major": 2,
       "version_minor": 0
      },
      "text/plain": [
       "Epoch 10/20 [Train]:   0%|          | 0/1963 [00:00<?, ?it/s]"
      ]
     },
     "metadata": {},
     "output_type": "display_data"
    },
    {
     "data": {
      "application/vnd.jupyter.widget-view+json": {
       "model_id": "87c33506bdd14d1cb040610bf8186125",
       "version_major": 2,
       "version_minor": 0
      },
      "text/plain": [
       "Epoch 10/20 [Val]:   0%|          | 0/655 [00:00<?, ?it/s]"
      ]
     },
     "metadata": {},
     "output_type": "display_data"
    },
    {
     "name": "stdout",
     "output_type": "stream",
     "text": [
      "Epoch [10/20] Summary: Train Loss=0.7914  |  Val Loss=0.8103  |  Val Acc=0.7548\n",
      "\n",
      "Current LR: 1.17e-06\n"
     ]
    },
    {
     "data": {
      "application/vnd.jupyter.widget-view+json": {
       "model_id": "1498298ee02d46a899776784eea36451",
       "version_major": 2,
       "version_minor": 0
      },
      "text/plain": [
       "Epoch 11/20 [Train]:   0%|          | 0/1963 [00:00<?, ?it/s]"
      ]
     },
     "metadata": {},
     "output_type": "display_data"
    },
    {
     "data": {
      "application/vnd.jupyter.widget-view+json": {
       "model_id": "dd2990db8e2e40fd9ebfa076bdf2e223",
       "version_major": 2,
       "version_minor": 0
      },
      "text/plain": [
       "Epoch 11/20 [Val]:   0%|          | 0/655 [00:00<?, ?it/s]"
      ]
     },
     "metadata": {},
     "output_type": "display_data"
    },
    {
     "name": "stdout",
     "output_type": "stream",
     "text": [
      "Epoch [11/20] Summary: Train Loss=0.7929  |  Val Loss=0.8115  |  Val Acc=0.7545\n",
      "\n",
      "Current LR: 1.00e-06\n"
     ]
    },
    {
     "data": {
      "application/vnd.jupyter.widget-view+json": {
       "model_id": "586b15962a81469b8fd4e939c036c7d6",
       "version_major": 2,
       "version_minor": 0
      },
      "text/plain": [
       "Epoch 12/20 [Train]:   0%|          | 0/1963 [00:00<?, ?it/s]"
      ]
     },
     "metadata": {},
     "output_type": "display_data"
    },
    {
     "data": {
      "application/vnd.jupyter.widget-view+json": {
       "model_id": "69be38ac455c4a4f8eab2b4474d22b2e",
       "version_major": 2,
       "version_minor": 0
      },
      "text/plain": [
       "Epoch 12/20 [Val]:   0%|          | 0/655 [00:00<?, ?it/s]"
      ]
     },
     "metadata": {},
     "output_type": "display_data"
    },
    {
     "name": "stdout",
     "output_type": "stream",
     "text": [
      "Epoch [12/20] Summary: Train Loss=0.7922  |  Val Loss=0.8115  |  Val Acc=0.7549\n",
      "\n",
      "Current LR: 8.26e-07\n"
     ]
    },
    {
     "data": {
      "application/vnd.jupyter.widget-view+json": {
       "model_id": "9cf7464d7a7349cc985d10c0532bdf00",
       "version_major": 2,
       "version_minor": 0
      },
      "text/plain": [
       "Epoch 13/20 [Train]:   0%|          | 0/1963 [00:00<?, ?it/s]"
      ]
     },
     "metadata": {},
     "output_type": "display_data"
    },
    {
     "data": {
      "application/vnd.jupyter.widget-view+json": {
       "model_id": "248dcbf3bac74b9db0353512f6c3fab7",
       "version_major": 2,
       "version_minor": 0
      },
      "text/plain": [
       "Epoch 13/20 [Val]:   0%|          | 0/655 [00:00<?, ?it/s]"
      ]
     },
     "metadata": {},
     "output_type": "display_data"
    },
    {
     "name": "stdout",
     "output_type": "stream",
     "text": [
      "Epoch [13/20] Summary: Train Loss=0.7925  |  Val Loss=0.8103  |  Val Acc=0.7554\n",
      "\n",
      "Current LR: 6.58e-07\n"
     ]
    },
    {
     "data": {
      "application/vnd.jupyter.widget-view+json": {
       "model_id": "d135253081b847768261f367c1c85791",
       "version_major": 2,
       "version_minor": 0
      },
      "text/plain": [
       "Epoch 14/20 [Train]:   0%|          | 0/1963 [00:00<?, ?it/s]"
      ]
     },
     "metadata": {},
     "output_type": "display_data"
    },
    {
     "data": {
      "application/vnd.jupyter.widget-view+json": {
       "model_id": "d99c9da2bc964371b9dfebe854584536",
       "version_major": 2,
       "version_minor": 0
      },
      "text/plain": [
       "Epoch 14/20 [Val]:   0%|          | 0/655 [00:00<?, ?it/s]"
      ]
     },
     "metadata": {},
     "output_type": "display_data"
    },
    {
     "name": "stdout",
     "output_type": "stream",
     "text": [
      "Epoch [14/20] Summary: Train Loss=0.7961  |  Val Loss=0.8114  |  Val Acc=0.7537\n",
      "\n",
      "Current LR: 5.00e-07\n"
     ]
    },
    {
     "data": {
      "application/vnd.jupyter.widget-view+json": {
       "model_id": "95ea5543972f4a68958cb25fb7bbb9a6",
       "version_major": 2,
       "version_minor": 0
      },
      "text/plain": [
       "Epoch 15/20 [Train]:   0%|          | 0/1963 [00:00<?, ?it/s]"
      ]
     },
     "metadata": {},
     "output_type": "display_data"
    },
    {
     "data": {
      "application/vnd.jupyter.widget-view+json": {
       "model_id": "0fa852e26c834dcdac031d8d72b3d2f7",
       "version_major": 2,
       "version_minor": 0
      },
      "text/plain": [
       "Epoch 15/20 [Val]:   0%|          | 0/655 [00:00<?, ?it/s]"
      ]
     },
     "metadata": {},
     "output_type": "display_data"
    },
    {
     "name": "stdout",
     "output_type": "stream",
     "text": [
      "Epoch [15/20] Summary: Train Loss=0.7923  |  Val Loss=0.8106  |  Val Acc=0.7557\n",
      "\n",
      "Current LR: 3.57e-07\n"
     ]
    },
    {
     "data": {
      "application/vnd.jupyter.widget-view+json": {
       "model_id": "0b28be6b4996458cba2a0d1550c0101f",
       "version_major": 2,
       "version_minor": 0
      },
      "text/plain": [
       "Epoch 16/20 [Train]:   0%|          | 0/1963 [00:00<?, ?it/s]"
      ]
     },
     "metadata": {},
     "output_type": "display_data"
    },
    {
     "data": {
      "application/vnd.jupyter.widget-view+json": {
       "model_id": "0425881d0b2c45d0a155af0472c83c1b",
       "version_major": 2,
       "version_minor": 0
      },
      "text/plain": [
       "Epoch 16/20 [Val]:   0%|          | 0/655 [00:00<?, ?it/s]"
      ]
     },
     "metadata": {},
     "output_type": "display_data"
    },
    {
     "name": "stdout",
     "output_type": "stream",
     "text": [
      "Epoch [16/20] Summary: Train Loss=0.7947  |  Val Loss=0.8111  |  Val Acc=0.7551\n",
      "\n",
      "Current LR: 2.34e-07\n"
     ]
    },
    {
     "data": {
      "application/vnd.jupyter.widget-view+json": {
       "model_id": "4918f1e072e942af9504f4c09baa5433",
       "version_major": 2,
       "version_minor": 0
      },
      "text/plain": [
       "Epoch 17/20 [Train]:   0%|          | 0/1963 [00:00<?, ?it/s]"
      ]
     },
     "metadata": {},
     "output_type": "display_data"
    },
    {
     "data": {
      "application/vnd.jupyter.widget-view+json": {
       "model_id": "99dda420d6a94ce98117da3941dccf9d",
       "version_major": 2,
       "version_minor": 0
      },
      "text/plain": [
       "Epoch 17/20 [Val]:   0%|          | 0/655 [00:00<?, ?it/s]"
      ]
     },
     "metadata": {},
     "output_type": "display_data"
    },
    {
     "name": "stdout",
     "output_type": "stream",
     "text": [
      "Epoch [17/20] Summary: Train Loss=0.7939  |  Val Loss=0.8114  |  Val Acc=0.7545\n",
      "\n",
      "Current LR: 1.34e-07\n"
     ]
    },
    {
     "data": {
      "application/vnd.jupyter.widget-view+json": {
       "model_id": "3f693f54f0a142aa8c38e42485aa09d2",
       "version_major": 2,
       "version_minor": 0
      },
      "text/plain": [
       "Epoch 18/20 [Train]:   0%|          | 0/1963 [00:00<?, ?it/s]"
      ]
     },
     "metadata": {},
     "output_type": "display_data"
    },
    {
     "data": {
      "application/vnd.jupyter.widget-view+json": {
       "model_id": "db43497bb6944e8cb1cf553e9d0f95e9",
       "version_major": 2,
       "version_minor": 0
      },
      "text/plain": [
       "Epoch 18/20 [Val]:   0%|          | 0/655 [00:00<?, ?it/s]"
      ]
     },
     "metadata": {},
     "output_type": "display_data"
    },
    {
     "name": "stdout",
     "output_type": "stream",
     "text": [
      "Epoch [18/20] Summary: Train Loss=0.7931  |  Val Loss=0.8111  |  Val Acc=0.7548\n",
      "\n",
      "Current LR: 6.03e-08\n"
     ]
    },
    {
     "data": {
      "application/vnd.jupyter.widget-view+json": {
       "model_id": "1a8bb9c867ac42088ec310112a1ee19a",
       "version_major": 2,
       "version_minor": 0
      },
      "text/plain": [
       "Epoch 19/20 [Train]:   0%|          | 0/1963 [00:00<?, ?it/s]"
      ]
     },
     "metadata": {},
     "output_type": "display_data"
    },
    {
     "data": {
      "application/vnd.jupyter.widget-view+json": {
       "model_id": "fe824a17eef24be687f01479dd35db59",
       "version_major": 2,
       "version_minor": 0
      },
      "text/plain": [
       "Epoch 19/20 [Val]:   0%|          | 0/655 [00:00<?, ?it/s]"
      ]
     },
     "metadata": {},
     "output_type": "display_data"
    },
    {
     "name": "stdout",
     "output_type": "stream",
     "text": [
      "Epoch [19/20] Summary: Train Loss=0.7923  |  Val Loss=0.8110  |  Val Acc=0.7549\n",
      "\n",
      "Current LR: 1.52e-08\n"
     ]
    },
    {
     "data": {
      "application/vnd.jupyter.widget-view+json": {
       "model_id": "24166541acaf4ef587101d0ab1a155cf",
       "version_major": 2,
       "version_minor": 0
      },
      "text/plain": [
       "Epoch 20/20 [Train]:   0%|          | 0/1963 [00:00<?, ?it/s]"
      ]
     },
     "metadata": {},
     "output_type": "display_data"
    },
    {
     "data": {
      "application/vnd.jupyter.widget-view+json": {
       "model_id": "4c4aa35bdbd9417a9bca34de83b81161",
       "version_major": 2,
       "version_minor": 0
      },
      "text/plain": [
       "Epoch 20/20 [Val]:   0%|          | 0/655 [00:00<?, ?it/s]"
      ]
     },
     "metadata": {},
     "output_type": "display_data"
    },
    {
     "name": "stdout",
     "output_type": "stream",
     "text": [
      "Epoch [20/20] Summary: Train Loss=0.7932  |  Val Loss=0.8110  |  Val Acc=0.7548\n"
     ]
    }
   ],
   "source": [
    "for epoch in range(num_epochs):\n",
    "    print(f\"\\nCurrent LR: {scheduler.get_last_lr()[0]:.2e}\")\n",
    "    \n",
    "    ################################\n",
    "    #          Training            #\n",
    "    ################################\n",
    "    model.train()\n",
    "    running_train_loss = 0.0\n",
    "    \n",
    "    train_tqdm = tqdm(train_loader, desc=f\"Epoch {epoch+1}/{num_epochs} [Train]\", smoothing=0.9)\n",
    "    \n",
    "    for images, labels in train_tqdm:\n",
    "        images, labels = images.to(device), labels.to(device)\n",
    "\n",
    "        # Zero out the gradients\n",
    "        optimizer.zero_grad()\n",
    "        \n",
    "        # 2) Mixed precision forward pass\n",
    "        with autocast(device_type='cuda'):\n",
    "            outputs = model(images)\n",
    "            loss = criterion(outputs, labels)\n",
    "        \n",
    "        # 3) Backprop with scaled loss\n",
    "        scaler.scale(loss).backward()\n",
    "        \n",
    "        # 4) Gradient clipping AFTER unscaling\n",
    "        scaler.unscale_(optimizer)\n",
    "        torch.nn.utils.clip_grad_norm_(model.parameters(), max_norm=1.0)\n",
    "        \n",
    "        # 5) Step the optimizer with scaled gradients\n",
    "        scaler.step(optimizer)\n",
    "        scaler.update()\n",
    "        \n",
    "        running_train_loss += loss.item()\n",
    "        train_tqdm.set_postfix(loss=loss.item())\n",
    "        \n",
    "    train_loss = running_train_loss / len(train_loader)\n",
    "\n",
    "    ################################\n",
    "    #         Validation           #\n",
    "    ################################\n",
    "    model.eval()\n",
    "    running_val_loss = 0.0\n",
    "    correct, total = 0, 0\n",
    "\n",
    "    val_tqdm = tqdm(val_loader, desc=f\"Epoch {epoch+1}/{num_epochs} [Val]\", smoothing=0.9)\n",
    "    with torch.no_grad():\n",
    "        for images, labels in val_tqdm:\n",
    "            images, labels = images.to(device), labels.to(device)\n",
    "            \n",
    "            # Mixed precision inference also possible (faster on GPUs)\n",
    "            with autocast(device_type='cuda'):\n",
    "                outputs = model(images)\n",
    "                loss = criterion(outputs, labels)\n",
    "            \n",
    "            running_val_loss += loss.item()\n",
    "\n",
    "            _, predicted = outputs.max(1)\n",
    "            correct += predicted.eq(labels).sum().item()\n",
    "            total   += labels.size(0)\n",
    "\n",
    "            val_tqdm.set_postfix(loss=loss.item())\n",
    "\n",
    "    val_loss = running_val_loss / len(val_loader)\n",
    "    val_acc = correct / total\n",
    "\n",
    "    print(f\"Epoch [{epoch+1}/{num_epochs}] Summary: \"\n",
    "          f\"Train Loss={train_loss:.4f}  |  Val Loss={val_loss:.4f}  |  Val Acc={val_acc:.4f}\")\n",
    "    \n",
    "    # Checkpoint saving logic\n",
    "    if ((epoch/num_epochs) <= 0.50 and (val_acc - best_val_acc) > 0.01) \\\n",
    "       or ((epoch/num_epochs) < 0.75 and (val_acc - best_val_acc) > 0.005) \\\n",
    "       or ((epoch/num_epochs) >= 0.75 and val_acc > best_val_acc):\n",
    "        best_val_acc = val_acc\n",
    "        checkpoint = {\n",
    "            'epoch': epoch,\n",
    "            'model_state_dict': model.state_dict(),\n",
    "            'optimizer_state_dict': optimizer.state_dict(),\n",
    "            'train_loss': train_loss,\n",
    "            'val_loss': val_loss,\n",
    "            'val_acc': val_acc\n",
    "        }\n",
    "        checkpoint_filename = f\"checkpoints/{val_acc:.4f}_epoch_{epoch+1}_{datetime.datetime.today().strftime('%Y%m%d')}.pth\"\n",
    "        torch.save(checkpoint, checkpoint_filename)\n",
    "        print(f\"New best model saved: {checkpoint_filename}\")\n",
    "    \n",
    "    scheduler.step()\n"
   ]
  },
  {
   "cell_type": "markdown",
   "id": "67b8092f",
   "metadata": {},
   "source": [
    "## Step 8: Test Set Evaluation"
   ]
  },
  {
   "cell_type": "code",
   "execution_count": 15,
   "id": "48a94774",
   "metadata": {},
   "outputs": [
    {
     "data": {
      "application/vnd.jupyter.widget-view+json": {
       "model_id": "9866942d7fd84549bec3330f654a070d",
       "version_major": 2,
       "version_minor": 0
      },
      "text/plain": [
       "Testing:   0%|          | 0/655 [00:00<?, ?it/s]"
      ]
     },
     "metadata": {},
     "output_type": "display_data"
    },
    {
     "name": "stdout",
     "output_type": "stream",
     "text": [
      "Test Loss: 0.7960 | Test Acc: 0.7570\n"
     ]
    }
   ],
   "source": [
    "model.eval()\n",
    "\n",
    "test_loss = 0.0\n",
    "correct = 0\n",
    "total = 0\n",
    "\n",
    "test_tqdm = tqdm(test_loader, desc=\"Testing\", smoothing=0.9)\n",
    "\n",
    "with torch.no_grad():\n",
    "    for images, labels in test_tqdm:\n",
    "        images, labels = images.to(device), labels.to(device)\n",
    "        \n",
    "        outputs = model(images)\n",
    "        loss = criterion(outputs, labels)\n",
    "        test_loss += loss.item()\n",
    "        \n",
    "        _, predicted = torch.max(outputs, dim=1)\n",
    "        correct += (predicted == labels).sum().item()\n",
    "        total += labels.size(0)\n",
    "        \n",
    "        test_tqdm.set_postfix(loss=loss.item())\n",
    "\n",
    "test_loss /= len(test_loader)\n",
    "test_acc = correct / total\n",
    "\n",
    "print(f\"Test Loss: {test_loss:.4f} | Test Acc: {test_acc:.4f}\")"
   ]
  },
  {
   "cell_type": "markdown",
   "id": "8fcf5388",
   "metadata": {},
   "source": [
    "## Step 9: Single Prediction"
   ]
  },
  {
   "cell_type": "code",
   "execution_count": 16,
   "id": "4e9ed356",
   "metadata": {},
   "outputs": [
    {
     "name": "stdout",
     "output_type": "stream",
     "text": [
      "Random sample index: 45289\n",
      "Predicted class index: 5\n",
      "Predicted class: smooth_inbetween\n",
      "Real truth class index: 5\n",
      "Real truth class: smooth_inbetween\n"
     ]
    }
   ],
   "source": [
    "# Example label mapping\n",
    "label_mapping = {\n",
    "    0: 'barred_spiral',\n",
    "    1: 'edge_on_disk',\n",
    "    2: 'featured_without_bar_or_spiral',\n",
    "    3: 'irregular',\n",
    "    4: 'smooth_cigar',\n",
    "    5: 'smooth_inbetween',\n",
    "    6: 'smooth_round',\n",
    "    7: 'unbarred_spiral'\n",
    "}\n",
    "\n",
    "idx = random.randint(0, len(train_dataset) - 1)\n",
    "\n",
    "example_image_tensor, example_label_int = train_dataset[idx]\n",
    "\n",
    "example_image_tensor = example_image_tensor.unsqueeze(0).to(device)\n",
    "\n",
    "# Run inference\n",
    "model.eval()\n",
    "with torch.no_grad():\n",
    "    output = model(example_image_tensor)        # shape [1, num_classes]\n",
    "    _, pred_idx = torch.max(output, dim=1)      # Get predicted class index\n",
    "    pred_idx = pred_idx.item()                  # convert to int\n",
    "\n",
    "real_truth_class_name = label_mapping[example_label_int.item()]\n",
    "predicted_class_name = label_mapping[pred_idx]\n",
    "\n",
    "print(\"Random sample index:\", idx)\n",
    "print(\"Predicted class index:\", pred_idx)\n",
    "print(\"Predicted class:\", predicted_class_name)\n",
    "print(\"Real truth class index:\", example_label_int.item())\n",
    "print(\"Real truth class:\", real_truth_class_name)"
   ]
  }
 ],
 "metadata": {
  "kernelspec": {
   "display_name": "venv",
   "language": "python",
   "name": "python3"
  },
  "language_info": {
   "codemirror_mode": {
    "name": "ipython",
    "version": 3
   },
   "file_extension": ".py",
   "mimetype": "text/x-python",
   "name": "python",
   "nbconvert_exporter": "python",
   "pygments_lexer": "ipython3",
   "version": "3.12.9"
  }
 },
 "nbformat": 4,
 "nbformat_minor": 5
}
